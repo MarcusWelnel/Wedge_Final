{
 "cells": [
  {
   "cell_type": "markdown",
   "id": "48638dfe",
   "metadata": {},
   "source": [
    "# PART 2"
   ]
  },
  {
   "cell_type": "code",
   "execution_count": 2,
   "id": "e077585a",
   "metadata": {},
   "outputs": [
    {
     "name": "stdout",
     "output_type": "stream",
     "text": [
      "Requirement already satisfied: google-cloud-BigQuery in /opt/anaconda3/lib/python3.8/site-packages (2.32.0)\n",
      "Requirement already satisfied: google-resumable-media<3.0dev,>=0.6.0 in /opt/anaconda3/lib/python3.8/site-packages (from google-cloud-BigQuery) (2.1.0)\n",
      "Requirement already satisfied: grpcio<2.0dev,>=1.38.1 in /opt/anaconda3/lib/python3.8/site-packages (from google-cloud-BigQuery) (1.42.0)\n",
      "Requirement already satisfied: python-dateutil<3.0dev,>=2.7.2 in /opt/anaconda3/lib/python3.8/site-packages (from google-cloud-BigQuery) (2.8.1)\n",
      "Requirement already satisfied: google-api-core[grpc]<3.0.0dev,>=1.29.0 in /opt/anaconda3/lib/python3.8/site-packages (from google-cloud-BigQuery) (2.2.2)\n",
      "Requirement already satisfied: protobuf>=3.12.0 in /opt/anaconda3/lib/python3.8/site-packages (from google-cloud-BigQuery) (3.19.1)\n",
      "Requirement already satisfied: requests<3.0.0dev,>=2.18.0 in /opt/anaconda3/lib/python3.8/site-packages (from google-cloud-BigQuery) (2.25.1)\n",
      "Requirement already satisfied: proto-plus>=1.10.0 in /opt/anaconda3/lib/python3.8/site-packages (from google-cloud-BigQuery) (1.19.8)\n",
      "Requirement already satisfied: packaging>=14.3 in /opt/anaconda3/lib/python3.8/site-packages (from google-cloud-BigQuery) (20.9)\n",
      "Requirement already satisfied: google-cloud-core<3.0.0dev,>=1.4.1 in /opt/anaconda3/lib/python3.8/site-packages (from google-cloud-BigQuery) (2.2.1)\n",
      "Requirement already satisfied: google-auth<3.0dev,>=1.25.0 in /opt/anaconda3/lib/python3.8/site-packages (from google-api-core[grpc]<3.0.0dev,>=1.29.0->google-cloud-BigQuery) (2.3.3)\n",
      "Requirement already satisfied: googleapis-common-protos<2.0dev,>=1.52.0 in /opt/anaconda3/lib/python3.8/site-packages (from google-api-core[grpc]<3.0.0dev,>=1.29.0->google-cloud-BigQuery) (1.53.0)\n",
      "Requirement already satisfied: setuptools>=40.3.0 in /opt/anaconda3/lib/python3.8/site-packages (from google-api-core[grpc]<3.0.0dev,>=1.29.0->google-cloud-BigQuery) (52.0.0.post20210125)\n",
      "Requirement already satisfied: grpcio-status<2.0dev,>=1.33.2 in /opt/anaconda3/lib/python3.8/site-packages (from google-api-core[grpc]<3.0.0dev,>=1.29.0->google-cloud-BigQuery) (1.42.0)\n",
      "Requirement already satisfied: pyasn1-modules>=0.2.1 in /opt/anaconda3/lib/python3.8/site-packages (from google-auth<3.0dev,>=1.25.0->google-api-core[grpc]<3.0.0dev,>=1.29.0->google-cloud-BigQuery) (0.2.8)\n",
      "Requirement already satisfied: six>=1.9.0 in /opt/anaconda3/lib/python3.8/site-packages (from google-auth<3.0dev,>=1.25.0->google-api-core[grpc]<3.0.0dev,>=1.29.0->google-cloud-BigQuery) (1.15.0)\n",
      "Requirement already satisfied: rsa<5,>=3.1.4 in /opt/anaconda3/lib/python3.8/site-packages (from google-auth<3.0dev,>=1.25.0->google-api-core[grpc]<3.0.0dev,>=1.29.0->google-cloud-BigQuery) (4.7.2)\n",
      "Requirement already satisfied: cachetools<5.0,>=2.0.0 in /opt/anaconda3/lib/python3.8/site-packages (from google-auth<3.0dev,>=1.25.0->google-api-core[grpc]<3.0.0dev,>=1.29.0->google-cloud-BigQuery) (4.2.4)\n",
      "Requirement already satisfied: google-crc32c<2.0dev,>=1.0 in /opt/anaconda3/lib/python3.8/site-packages (from google-resumable-media<3.0dev,>=0.6.0->google-cloud-BigQuery) (1.3.0)\n",
      "Requirement already satisfied: pyparsing>=2.0.2 in /opt/anaconda3/lib/python3.8/site-packages (from packaging>=14.3->google-cloud-BigQuery) (2.4.7)\n",
      "Requirement already satisfied: pyasn1<0.5.0,>=0.4.6 in /opt/anaconda3/lib/python3.8/site-packages (from pyasn1-modules>=0.2.1->google-auth<3.0dev,>=1.25.0->google-api-core[grpc]<3.0.0dev,>=1.29.0->google-cloud-BigQuery) (0.4.8)\n",
      "Requirement already satisfied: idna<3,>=2.5 in /opt/anaconda3/lib/python3.8/site-packages (from requests<3.0.0dev,>=2.18.0->google-cloud-BigQuery) (2.10)\n",
      "Requirement already satisfied: chardet<5,>=3.0.2 in /opt/anaconda3/lib/python3.8/site-packages (from requests<3.0.0dev,>=2.18.0->google-cloud-BigQuery) (4.0.0)\n",
      "Requirement already satisfied: certifi>=2017.4.17 in /opt/anaconda3/lib/python3.8/site-packages (from requests<3.0.0dev,>=2.18.0->google-cloud-BigQuery) (2020.12.5)\n",
      "Requirement already satisfied: urllib3<1.27,>=1.21.1 in /opt/anaconda3/lib/python3.8/site-packages (from requests<3.0.0dev,>=2.18.0->google-cloud-BigQuery) (1.26.4)\n",
      "Note: you may need to restart the kernel to use updated packages.\n"
     ]
    }
   ],
   "source": [
    "pip install --upgrade google-cloud-BigQuery"
   ]
  },
  {
   "cell_type": "code",
   "execution_count": 1,
   "id": "c1964090",
   "metadata": {},
   "outputs": [],
   "source": [
    "import os\n",
    "import io\n",
    "import random\n",
    "from google.cloud import bigquery\n",
    "from google.oauth2 import service_account"
   ]
  },
  {
   "cell_type": "code",
   "execution_count": 2,
   "id": "e6545c1c",
   "metadata": {},
   "outputs": [],
   "source": [
    "service_path = \"/Users/Marcus/Wedge_Final/\"\n",
    "service_file = 'umt-msba-290c4d48a8fb.json'\n",
    "gbq_proj_id = 'umt-msba'\n",
    "gbq_dataset_id = 'wedge_transactions'\n",
    "\n",
    "private_key =service_path + service_file"
   ]
  },
  {
   "cell_type": "code",
   "execution_count": 3,
   "id": "2b5125df",
   "metadata": {},
   "outputs": [],
   "source": [
    "credentials = service_account.Credentials.from_service_account_file(service_path + service_file)\n",
    "client = bigquery.Client(credentials = credentials, project=gbq_proj_id)"
   ]
  },
  {
   "cell_type": "code",
   "execution_count": 4,
   "id": "944e3f03",
   "metadata": {},
   "outputs": [],
   "source": [
    "query_card_nos = \"\"\"SELECT distinct card_no\n",
    "    from `umt-msba.wedge_transactions.transArchive*`\n",
    "    where card_no !=3\"\"\"\n",
    "query_get_card_nos = client.query(query_card_nos,location ='US',)"
   ]
  },
  {
   "cell_type": "code",
   "execution_count": 5,
   "id": "a8fa72ac",
   "metadata": {},
   "outputs": [
    {
     "name": "stdout",
     "output_type": "stream",
     "text": [
      "27207\n"
     ]
    }
   ],
   "source": [
    "owners = []\n",
    "\n",
    "for idx, row in enumerate(query_get_card_nos) :\n",
    "    card_no = row[0]\n",
    "    \n",
    "    owners.append(card_no)\n",
    "\n",
    "print(len(owners))"
   ]
  },
  {
   "cell_type": "code",
   "execution_count": 18,
   "id": "b2f9872d",
   "metadata": {},
   "outputs": [
    {
     "name": "stdout",
     "output_type": "stream",
     "text": [
      "270\n"
     ]
    }
   ],
   "source": [
    "random.seed(294)\n",
    "samp_size = 270\n",
    "samp_owners = random.choices(owners, k=samp_size)\n",
    "print(len(samp_owners))"
   ]
  },
  {
   "cell_type": "code",
   "execution_count": 19,
   "id": "09ccbd7f",
   "metadata": {},
   "outputs": [],
   "source": [
    "owners_join = \",\".join([str(owner) for owner in samp_owners])\n",
    "query = \"\"\"Select * From `umt-msba.wedge_transactions.transArchive*` Where card_no in (\"\"\" + owners_join + \")\"\n",
    "query_own = client.query(query,location ='US',)"
   ]
  },
  {
   "cell_type": "code",
   "execution_count": 20,
   "id": "0480a7a0",
   "metadata": {},
   "outputs": [],
   "source": [
    "headers = [\"datetime\",\"register_no\",\"emp_no\",\"trans_no\",\"upc\",\"description\",\"trans_type\",\"trans_subtype\",\"trans_status\",\"department\",\"quantity\",\"Scale\",\"cost\",\"unitPrice\",\"total\",\"regPrice\",\"altPrice\",\"tax\",\"taxexempt\",\"foodstamp\",\"wicable\",\"discount\",\"memDiscount\",\"discountable\",\"discounttype\",\"voided\",\"percentDiscount\",\"ItemQtty\",\"volDiscType\",\"volume\",\"VolSpecial\",\"mixMatch\",\"matched\",\"memType\",\"staff\",\"numflag\",\"itemstatus\",\"tenderstatus\",\"charflag\",\"varflag\",\"batchHeaderID\",\"local\",\"organic\",\"display\",\"receipt\",\"card_no\",\"store\",\"branch\",\"match_id\",\"trans_id\"]\n",
    "with open (\"sample_of_owners.txt\", \"w\") as outfile :\n",
    "    outfile.write (\"\\t\".join(headers) + \"\\n\")\n",
    "    for row in query_own:\n",
    "        outfile.write(\"\\t\".join([str(item) for item in row]) + \"\\n\")"
   ]
  },
  {
   "cell_type": "code",
   "execution_count": 14,
   "id": "ef4fcd20",
   "metadata": {},
   "outputs": [
    {
     "name": "stdout",
     "output_type": "stream",
     "text": [
      "<_io.TextIOWrapper name='sample_of_owners.txt' mode='w' encoding='UTF-8'>\n"
     ]
    }
   ],
   "source": []
  },
  {
   "cell_type": "code",
   "execution_count": null,
   "id": "c32e461a",
   "metadata": {},
   "outputs": [],
   "source": []
  }
 ],
 "metadata": {
  "kernelspec": {
   "display_name": "Python 3",
   "language": "python",
   "name": "python3"
  },
  "language_info": {
   "codemirror_mode": {
    "name": "ipython",
    "version": 3
   },
   "file_extension": ".py",
   "mimetype": "text/x-python",
   "name": "python",
   "nbconvert_exporter": "python",
   "pygments_lexer": "ipython3",
   "version": "3.8.8"
  }
 },
 "nbformat": 4,
 "nbformat_minor": 5
}
