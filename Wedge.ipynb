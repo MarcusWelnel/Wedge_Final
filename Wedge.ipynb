{
 "cells": [
  {
   "cell_type": "markdown",
   "id": "48638dfe",
   "metadata": {},
   "source": [
    "# PART 2"
   ]
  },
  {
   "cell_type": "code",
   "execution_count": 29,
   "id": "c1964090",
   "metadata": {},
   "outputs": [],
   "source": [
    "import os\n",
    "import io\n",
    "import random\n",
    "from google.cloud import bigquery\n",
    "from google.oauth2 import service_account\n",
    "import sqlite3"
   ]
  },
  {
   "cell_type": "code",
   "execution_count": 30,
   "id": "e6545c1c",
   "metadata": {},
   "outputs": [],
   "source": [
    "service_path = \"/Users/Marcus/Wedge_Final/\"\n",
    "service_file = 'umt-msba-290c4d48a8fb.json'\n",
    "gbq_proj_id = 'umt-msba'\n",
    "gbq_dataset_id = 'wedge_transactions'\n",
    "\n",
    "private_key =service_path + service_file"
   ]
  },
  {
   "cell_type": "code",
   "execution_count": 31,
   "id": "2b5125df",
   "metadata": {},
   "outputs": [],
   "source": [
    "credentials = service_account.Credentials.from_service_account_file(service_path + service_file)\n",
    "client = bigquery.Client(credentials = credentials, project=gbq_proj_id)"
   ]
  },
  {
   "cell_type": "code",
   "execution_count": 32,
   "id": "944e3f03",
   "metadata": {},
   "outputs": [],
   "source": [
    "query_card_nos = \"\"\"SELECT distinct card_no\n",
    "    from `umt-msba.wedge_transactions.transArchive*`\n",
    "    where card_no !=3\"\"\"\n",
    "query_get_card_nos = client.query(query_card_nos,location ='US',)"
   ]
  },
  {
   "cell_type": "code",
   "execution_count": 5,
   "id": "a8fa72ac",
   "metadata": {},
   "outputs": [
    {
     "name": "stdout",
     "output_type": "stream",
     "text": [
      "27207\n"
     ]
    }
   ],
   "source": [
    "owners = []\n",
    "\n",
    "for idx, row in enumerate(query_get_card_nos) :\n",
    "    card_no = row[0]\n",
    "    \n",
    "    owners.append(card_no)\n",
    "\n",
    "print(len(owners))"
   ]
  },
  {
   "cell_type": "code",
   "execution_count": 18,
   "id": "b2f9872d",
   "metadata": {},
   "outputs": [
    {
     "name": "stdout",
     "output_type": "stream",
     "text": [
      "270\n"
     ]
    }
   ],
   "source": [
    "random.seed(294)\n",
    "samp_size = 270\n",
    "samp_owners = random.choices(owners, k=samp_size)\n",
    "print(len(samp_owners))"
   ]
  },
  {
   "cell_type": "code",
   "execution_count": 19,
   "id": "09ccbd7f",
   "metadata": {},
   "outputs": [],
   "source": [
    "owners_join = \",\".join([str(owner) for owner in samp_owners])\n",
    "query = \"\"\"Select * From `umt-msba.wedge_transactions.transArchive*` Where card_no in (\"\"\" + owners_join + \")\"\n",
    "query_own = client.query(query,location ='US',)"
   ]
  },
  {
   "cell_type": "code",
   "execution_count": 20,
   "id": "0480a7a0",
   "metadata": {},
   "outputs": [],
   "source": [
    "headers = [\"datetime\",\"register_no\",\"emp_no\",\"trans_no\",\"upc\",\"description\",\"trans_type\",\"trans_subtype\",\"trans_status\",\"department\",\"quantity\",\"Scale\",\"cost\",\"unitPrice\",\"total\",\"regPrice\",\"altPrice\",\"tax\",\"taxexempt\",\"foodstamp\",\"wicable\",\"discount\",\"memDiscount\",\"discountable\",\"discounttype\",\"voided\",\"percentDiscount\",\"ItemQtty\",\"volDiscType\",\"volume\",\"VolSpecial\",\"mixMatch\",\"matched\",\"memType\",\"staff\",\"numflag\",\"itemstatus\",\"tenderstatus\",\"charflag\",\"varflag\",\"batchHeaderID\",\"local\",\"organic\",\"display\",\"receipt\",\"card_no\",\"store\",\"branch\",\"match_id\",\"trans_id\"]\n",
    "with open (\"sample_of_owners.txt\", \"w\") as outfile :\n",
    "    outfile.write (\"\\t\".join(headers) + \"\\n\")\n",
    "    for row in query_own:\n",
    "        outfile.write(\"\\t\".join([str(item) for item in row]) + \"\\n\")"
   ]
  },
  {
   "cell_type": "markdown",
   "id": "9a8d68c3",
   "metadata": {},
   "source": [
    "# Part 3"
   ]
  },
  {
   "cell_type": "markdown",
   "id": "bacdfdf8",
   "metadata": {},
   "source": [
    "## Sales by date by hour"
   ]
  },
  {
   "cell_type": "code",
   "execution_count": 33,
   "id": "c32e461a",
   "metadata": {},
   "outputs": [],
   "source": [
    "#By calendar date (YYYY-MM-DD) and hour of the day, \n",
    "#determine the total spend in the store, \n",
    "#the number of transactions, \n",
    "#and a count of the number of items . \n",
    "\n",
    "query=('''SELECT (EXTRACT(date FROM datetime)) AS Date, \n",
    "(EXTRACT(hour FROM datetime)) AS Hour,\n",
    "SUM(total) AS Sales, \n",
    "COUNT(DISTINCT(Date(datetime) || trans_no || emp_no || register_no)) AS Transactions,\n",
    "SUM(CASE WHEN(trans_status = 'R' OR trans_status = 'V') THEN -1 ELSE 1 END) as Items\n",
    "FROM `umt-msba.wedge_transactions.transArchive*`\n",
    "WHERE card_no != 3\n",
    "AND department != 0\n",
    "AND department != 15\n",
    "AND trans_status != 'M'\n",
    "AND trans_status != 'C'\n",
    "AND trans_status != 'J'\n",
    "AND (trans_status = '' \n",
    "OR trans_status = ' ' \n",
    "OR trans_status =  'V' \n",
    "OR trans_status = 'R') \n",
    "GROUP BY Date, Hour\n",
    "ORDER BY Date, Hour''')\n",
    "\n",
    "query_sales_date_hour = client.query(query,location ='US',)"
   ]
  },
  {
   "cell_type": "code",
   "execution_count": 34,
   "id": "b8bd5fd9",
   "metadata": {},
   "outputs": [],
   "source": [
    "headers = [\"date\", \"hours\", \"sales\", \"transactions\", \"items\"]\n",
    "with open (\"sales_date_hour.txt\", \"w\") as outfile :\n",
    "    outfile.write (\"\\t\".join(headers) + \"\\n\")\n",
    "    for row in query_sales_date_hour:\n",
    "        newlist = [str(item) for item in row]\n",
    "        outfile.write(\"\\t\".join(newlist) + \"\\n\")"
   ]
  },
  {
   "cell_type": "code",
   "execution_count": 9,
   "id": "8286c04f",
   "metadata": {},
   "outputs": [],
   "source": [
    "import sqlite3\n",
    "db = sqlite3.connect(\"Welnel_Wedge.db\")\n",
    "cur = db.cursor()"
   ]
  },
  {
   "cell_type": "code",
   "execution_count": 23,
   "id": "0bb808a4",
   "metadata": {},
   "outputs": [],
   "source": [
    "#create table in database\n",
    "\n",
    "input_txt = \"sales_date_hour.txt\"\n",
    "cur.execute('''DROP TABLE IF EXISTS sales_date_hour''')\n",
    "cur.execute('''CREATE TABLE sales_date_hour (\n",
    "    date TIMESTAMP, \n",
    "    hour INTEGER, \n",
    "    sales INTEGER,\n",
    "    transactions INTEGER,\n",
    "    items INTEGER)''')\n",
    "\n",
    "with open(input_txt,'r', encoding=\"Latin-1\") as inputfile :\n",
    "    next(inputfile)\n",
    "    for idx, line in enumerate(inputfile.readlines()) :\n",
    "        line = line.strip().split(\"\\t\")\n",
    "        cur.execute('''\n",
    "            INSERT INTO sales_date_hour (date,hour,sales,transactions,items)\n",
    "            VALUES (?,?,?,?,?)''', line)\n",
    "\n",
    "db.commit()"
   ]
  },
  {
   "cell_type": "markdown",
   "id": "931574a8",
   "metadata": {},
   "source": [
    "## Sales by owner by year by month"
   ]
  },
  {
   "cell_type": "code",
   "execution_count": 12,
   "id": "d4a1fc90",
   "metadata": {},
   "outputs": [],
   "source": [
    "# A file that has the following columns: card_no, year, month, sales, transactions, and items.\n",
    "\n",
    "query = ('''SELECT card_no As Owner,\n",
    "    (EXTRACT(year FROM datetime)) AS Year,\n",
    "    (EXTRACT(month FROM datetime)) AS Month,\n",
    "    SUM(total) AS Sales,\n",
    "    COUNT(DISTINCT(Date(datetime) || trans_no || emp_no || register_no)) AS Transactions,\n",
    "    SUM(CASE WHEN(trans_status = 'R' OR trans_status = 'V') THEN -1 ELSE 1 END) as Items\n",
    "    FROM `umt-msba.wedge_transactions.transArchive*`\n",
    "    WHERE card_no != 3\n",
    "    AND department != 0\n",
    "    AND department != 15\n",
    "    AND trans_status != 'M'\n",
    "    AND trans_status != 'C'\n",
    "    AND trans_status != 'J'\n",
    "    AND (trans_status = ''\n",
    "    OR trans_status = ' '\n",
    "    OR trans_status =  'V'\n",
    "    OR trans_status = 'R')\n",
    "    GROUP BY Owner, Year, Month\n",
    "    ORDER BY Owner, Year, Month DESC''')\n",
    "\n",
    "\n",
    "query_owner_year_month = client.query(query,location ='US',)"
   ]
  },
  {
   "cell_type": "code",
   "execution_count": 14,
   "id": "1b4d976d",
   "metadata": {},
   "outputs": [],
   "source": [
    "headers = [\"owner\",\"year\",\"month\",\"sales\",\"transactions\",\"items\"]\n",
    "with open (\"owner_year_month.txt\", \"w\") as outfile :\n",
    "    outfile.write (\"\\t\".join(headers) + \"\\n\")\n",
    "    for row in query_owner_year_month:\n",
    "        newlist = [str(item) for item in row]\n",
    "        outfile.write(\"\\t\".join(newlist) + \"\\n\")"
   ]
  },
  {
   "cell_type": "code",
   "execution_count": 15,
   "id": "76c8d80f",
   "metadata": {},
   "outputs": [],
   "source": [
    "#create table in database\n",
    "\n",
    "input_txt = \"sales_by_owner_by_year_by_month.txt\"\n",
    "cur.execute('''DROP TABLE IF EXISTS owner_year_month''')\n",
    "cur.execute('''CREATE TABLE owner_year_month (\n",
    "    owner INTEGER, year INTEGER, month INTEGER, sales INTEGER, transactions INTEGER, items INTEGER)''')\n",
    "\n",
    "with open(input_txt,'r', encoding=\"Latin-1\") as inputfile :\n",
    "    next(inputfile)\n",
    "    for idx, line in enumerate(inputfile.readlines()) :\n",
    "        line = line.strip().split(\"\\t\")\n",
    "        cur.execute('''\n",
    "            INSERT INTO owner_year_month (owner,year,month,sales,transactions,items)\n",
    "            VALUES (?,?,?,?,?,?)''', line)\n",
    "db.commit()"
   ]
  },
  {
   "cell_type": "markdown",
   "id": "ab45e067",
   "metadata": {},
   "source": [
    "## Sales by product description by year by month"
   ]
  },
  {
   "cell_type": "code",
   "execution_count": 17,
   "id": "575f65ff",
   "metadata": {},
   "outputs": [],
   "source": [
    "# A file that has the following columns: \n",
    "# upc, description, department number, department name, year, month, sales, transactions, and items.\n",
    "\n",
    "query = ('''SELECT deplook.dept_name, trans.department, description,\n",
    "    (EXTRACT(year FROM datetime)) AS Year,\n",
    "    (EXTRACT(month FROM datetime)) AS Month,\n",
    "    upc,\n",
    "    SUM(total) AS Sales,\n",
    "    COUNT(DISTINCT(Date(datetime) || trans_no || emp_no || register_no)) AS Transactions,\n",
    "    SUM(CASE WHEN(trans_status = 'R' OR trans_status = 'V') THEN -1 ELSE 1 END) as Items,\n",
    "    trans.department AS dept_no\n",
    "    FROM `umt-msba.wedge_transactions.transArchive*` AS trans\n",
    "    LEFT OUTER JOIN `umt-msba.wedge_transactions.department_lookup` AS deplook ON trans.department = deplook.department\n",
    "    WHERE card_no != 3\n",
    "    AND trans.department != 0 \n",
    "    AND trans.department != 15\n",
    "    AND trans_status != 'M'\n",
    "    AND trans_status != 'C'\n",
    "    AND trans_status != 'J'\n",
    "    AND (trans_status = ''\n",
    "    OR trans_status = ' '\n",
    "    OR trans_status =  'V'\n",
    "    OR trans_status = 'R')\n",
    "    GROUP BY Year, Month, upc, description, dept_no, deplook.dept_name\n",
    "    ORDER BY description, Year, Month DESC''')\n",
    "\n",
    "query_sales_prod_year_month = client.query(query,location ='US',)"
   ]
  },
  {
   "cell_type": "code",
   "execution_count": 19,
   "id": "795dbdf6",
   "metadata": {},
   "outputs": [],
   "source": [
    "headers = [\"department\",\"dept_name\",\"description\", \"year\",\"month\", \"upc\", \"sales\", \"transactions\", \"items\",\"dept_no\"]\n",
    "with open (\"sales_prod_year_month.txt\", \"w\") as outfile :\n",
    "    outfile.write (\"\\t\".join(headers) + \"\\n\")\n",
    "    for row in query_sales_prod_year_month:\n",
    "        newlist = [str(item) for item in row]\n",
    "        outfile.write(\"\\t\".join(newlist) + \"\\n\")"
   ]
  },
  {
   "cell_type": "code",
   "execution_count": 20,
   "id": "0f7dc0ad",
   "metadata": {},
   "outputs": [],
   "source": [
    "#create table in database\n",
    "\n",
    "input_txt = \"sales_prod_year_month.txt\"\n",
    "cur.execute('''DROP TABLE IF EXISTS sales_prod_year_month''')\n",
    "cur.execute('''CREATE TABLE sales_prod_year_month (\n",
    "    Department INTEGER,\n",
    "    Dept_name INTERGER,\n",
    "    Description INTERGER,\n",
    "    Year INTEGER,\n",
    "    Month INTEGER,\n",
    "    upc INTEGER,\n",
    "    Sales INTEGER,\n",
    "    Transactions INTEGER,\n",
    "    Items INTEGER,\n",
    "    dept_no INTEGER)''')\n",
    "\n",
    "with open(input_txt,'r', encoding=\"Latin-1\") as inputfile :\n",
    "    next(inputfile)\n",
    "    for idx, line in enumerate(inputfile.readlines()) :\n",
    "        line = line.strip().split(\"\\t\")\n",
    "        cur.execute('''\n",
    "            INSERT INTO sales_prod_year_month (Department,Dept_name,Description,Year,Month,upc,Sales,Transactions,Items,dept_no)\n",
    "            VALUES (?,?,?,?,?,?,?,?,?,?)''', line)\n",
    "\n",
    "db.commit()"
   ]
  },
  {
   "cell_type": "code",
   "execution_count": null,
   "id": "d3107518",
   "metadata": {},
   "outputs": [],
   "source": []
  }
 ],
 "metadata": {
  "kernelspec": {
   "display_name": "Python 3",
   "language": "python",
   "name": "python3"
  },
  "language_info": {
   "codemirror_mode": {
    "name": "ipython",
    "version": 3
   },
   "file_extension": ".py",
   "mimetype": "text/x-python",
   "name": "python",
   "nbconvert_exporter": "python",
   "pygments_lexer": "ipython3",
   "version": "3.8.8"
  }
 },
 "nbformat": 4,
 "nbformat_minor": 5
}
